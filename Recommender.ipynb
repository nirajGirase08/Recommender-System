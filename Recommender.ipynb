{
 "cells": [
  {
   "cell_type": "code",
   "execution_count": 1,
   "id": "4e7c98bd",
   "metadata": {
    "vscode": {
     "languageId": "plaintext"
    }
   },
   "outputs": [],
   "source": [
    "#Collborative Filtering - It is a type of filtering which is based on the user behaviour(ratings, clicks and purchases)."
   ]
  },
  {
   "cell_type": "code",
   "execution_count": 1,
   "id": "3f60b2fb",
   "metadata": {
    "vscode": {
     "languageId": "plaintext"
    }
   },
   "outputs": [],
   "source": [
    "import pandas as pd\n",
    "import matplotlib.pyplot as plt"
   ]
  },
  {
   "cell_type": "code",
   "execution_count": 5,
   "id": "75cd7fad-6f59-4885-a657-843c163b11b9",
   "metadata": {},
   "outputs": [
    {
     "data": {
      "text/plain": [
       "userId       100836\n",
       "movieId      100836\n",
       "rating       100836\n",
       "timestamp    100836\n",
       "dtype: int64"
      ]
     },
     "execution_count": 5,
     "metadata": {},
     "output_type": "execute_result"
    }
   ],
   "source": [
    "#Import ratings dataset\n",
    "ratings_Org_Data=pd.read_csv('Movies-dataset/ratings.csv')\n",
    "ratings_Org_Data['timestamp'] = pd.to_datetime(ratings_Org_Data['timestamp'], unit='s')\n",
    "ratings_Org_Data=ratings_Org_Data.dropna()\n",
    "ratings_Org_Data.count()"
   ]
  },
  {
   "cell_type": "code",
   "execution_count": 6,
   "id": "de912102-0e7c-46a7-8c27-0047fc2e3288",
   "metadata": {},
   "outputs": [
    {
     "data": {
      "image/png": "[encoded data removed]",
      "text/plain": [
       "<Figure size 640x480 with 1 Axes>"
      ]
     },
     "metadata": {},
     "output_type": "display_data"
    }
   ],
   "source": [
    "# Plotting histogram to check the distribution of data for different ratings in the dataset\n",
    "ratings_Org_Data['rating'].hist(bins=10, edgecolor='black')\n",
    "plt.xlabel('Rating')\n",
    "plt.ylabel('Frequency')\n",
    "plt.title('Distribution of Ratings')\n",
    "plt.show()"
   ]
  },
  {
   "cell_type": "code",
   "execution_count": 11,
   "id": "6263107c-2e9e-451a-9e14-e11ef5c81063",
   "metadata": {},
   "outputs": [
    {
     "name": "stdout",
     "output_type": "stream",
     "text": [
      "movieId\n",
      "356       329\n",
      "318       317\n",
      "296       307\n",
      "593       279\n",
      "2571      278\n",
      "         ... \n",
      "86279       1\n",
      "86922       1\n",
      "5962        1\n",
      "87660       1\n",
      "163981      1\n",
      "Name: count, Length: 9724, dtype: int64\n",
      "userId\n",
      "414    2698\n",
      "599    2478\n",
      "474    2108\n",
      "448    1864\n",
      "274    1346\n",
      "       ... \n",
      "442      20\n",
      "569      20\n",
      "320      20\n",
      "576      20\n",
      "53       20\n",
      "Name: count, Length: 610, dtype: int64\n"
     ]
    }
   ],
   "source": [
    "movie_count=ratings_Org_Data['movieId'].value_counts()\n",
    "print(movie_count)\n",
    "user_count=ratings_Org_Data['userId'].value_counts()\n",
    "print(user_count)"
   ]
  },
  {
   "cell_type": "code",
   "execution_count": 12,
   "id": "332c9f40-e2ef-40ce-92b0-dc85f09201b9",
   "metadata": {},
   "outputs": [],
   "source": [
    "#We need to remove the users and movies with low count. The fundamental of collaborative filtering is overlapping of data.\n",
    "# A movie is recommended to a user A who rated the same movies as user B and if there is a movie which is not watched by\n",
    "# user A but by B so that movie will be suggested to user A as both A and B rated some common movies.\n",
    "# As the concept is common movies rated so there will be users who rated only few movies and movies which are rated by very little users so\n",
    "# we need to remove that as they are outliers and cannot help much in cosine or Pearson methods to find the score of overlapping and can\n",
    "# distort the recommendation."
   ]
  },
  {
   "cell_type": "code",
   "execution_count": 14,
   "id": "99f99af9-8b9b-4dcf-bd3e-275090b72e3c",
   "metadata": {},
   "outputs": [],
   "source": [
    "filtered_ratings = ratings_Org_Data[\n",
    "    ratings_Org_Data['movieId'].isin(movie_count[movie_count >= 50].index) &\n",
    "    ratings_Org_Data['userId'].isin(user_count[user_count >= 20].index)\n",
    "]"
   ]
  },
  {
   "cell_type": "code",
   "execution_count": 16,
   "id": "7a992a28-53cc-4f52-9733-afa0ae93ea2e",
   "metadata": {},
   "outputs": [
    {
     "data": {
      "text/plain": [
       "userId       41360\n",
       "movieId      41360\n",
       "rating       41360\n",
       "timestamp    41360\n",
       "dtype: int64"
      ]
     },
     "execution_count": 16,
     "metadata": {},
     "output_type": "execute_result"
    }
   ],
   "source": [
    "filtered_ratings.count()"
   ]
  },
  {
   "cell_type": "code",
   "execution_count": null,
   "id": "a9398035-7f8c-4474-9d17-07ef6ae55cc1",
   "metadata": {},
   "outputs": [],
   "source": []
  }
 ],
 "metadata": {
  "kernelspec": {
   "display_name": "Python 3 (ipykernel)",
   "language": "python",
   "name": "python3"
  },
  "language_info": {
   "codemirror_mode": {
    "name": "ipython",
    "version": 3
   },
   "file_extension": ".py",
   "mimetype": "text/x-python",
   "name": "python",
   "nbconvert_exporter": "python",
   "pygments_lexer": "ipython3",
   "version": "3.9.6"
  }
 },
 "nbformat": 4,
 "nbformat_minor": 5
}
